{
 "cells": [
  {
   "cell_type": "code",
   "execution_count": null,
   "id": "composed-french",
   "metadata": {},
   "outputs": [],
   "source": [
    "Required programming task *\n",
    "\n",
    "Given are two groups of 2-dimensional (x,y) coordinates.\n",
    "\n",
    "group1 = [[0.067, 0.21], [0.092, 0.21], \n",
    "  [0.294, 0.445], [0.227, 0.521], [0.185, 0.597], \n",
    "  [0.185, 0.689], [0.235, 0.748], [0.319, 0.773], \n",
    "  [0.387, 0.739], [0.437, 0.672], [0.496, 0.739],\n",
    "  [0.571, 0.773], [0.639, 0.765], [0.765, 0.924],\n",
    "  [0.807, 0.933], [0.849, 0.941]]\n",
    "group2 = [[0.118, 0.143], [0.118, 0.176], \n",
    "  [0.345, 0.378], [0.395, 0.319], [0.437, 0.261],\n",
    "  [0.496, 0.328], [0.546, 0.395], [0.605, 0.462],\n",
    "  [0.655, 0.529], [0.697, 0.597], [0.706, 0.664],\n",
    "  [0.681, 0.723], [0.849, 0.798], [0.857, 0.849],\n",
    "  [0.866, 0.899]]\n",
    "\n",
    "Please determine an equation for a linear separator for these two groups of points. \n",
    "Attach your solution to this application."
   ]
  },
  {
   "cell_type": "code",
   "execution_count": 2,
   "id": "general-yemen",
   "metadata": {},
   "outputs": [],
   "source": [
    "import numpy as  np\n",
    "\n",
    "group1 = np.array([[0.067, 0.21], [0.092, 0.21], \n",
    "  [0.294, 0.445], [0.227, 0.521], [0.185, 0.597], \n",
    "  [0.185, 0.689], [0.235, 0.748], [0.319, 0.773], \n",
    "  [0.387, 0.739], [0.437, 0.672], [0.496, 0.739],\n",
    "  [0.571, 0.773], [0.639, 0.765], [0.765, 0.924],\n",
    "  [0.807, 0.933], [0.849, 0.941]])\n",
    "\n",
    "group2 = np.array([[0.118, 0.143], [0.118, 0.176], \n",
    "  [0.345, 0.378], [0.395, 0.319], [0.437, 0.261],\n",
    "  [0.496, 0.328], [0.546, 0.395], [0.605, 0.462],\n",
    "  [0.655, 0.529], [0.697, 0.597], [0.706, 0.664],\n",
    "  [0.681, 0.723], [0.849, 0.798], [0.857, 0.849],\n",
    "  [0.866, 0.899]])\n",
    "\n",
    "#prepare data for SVC\n",
    "X = np.concatenate([group1,group2])\n",
    "y = [1,1,1,1,1,1,1,1,1,1,1,1,1,1,1,1,0,0,0,0,0,0,0,0,0,0,0,0,0,0,0]"
   ]
  },
  {
   "cell_type": "code",
   "execution_count": 3,
   "id": "oriented-taxation",
   "metadata": {},
   "outputs": [
    {
     "data": {
      "text/plain": [
       "SVC(C=100000.0, kernel='linear')"
      ]
     },
     "execution_count": 3,
     "metadata": {},
     "output_type": "execute_result"
    }
   ],
   "source": [
    "from sklearn.svm import SVC # \"Support vector classifier\"\n",
    "model = SVC(kernel='linear', C=1E5)\n",
    "model.fit(X, y)"
   ]
  },
  {
   "cell_type": "code",
   "execution_count": 4,
   "id": "olive-essex",
   "metadata": {},
   "outputs": [],
   "source": [
    "def plot_svc_decision_function(model, ax=None, plot_support=True):\n",
    "    \"\"\"Plot the decision function for a 2D SVC\"\"\"\n",
    "    if ax is None:\n",
    "        ax = plt.gca()\n",
    "    xlim = ax.get_xlim()\n",
    "    ylim = ax.get_ylim()\n",
    "    \n",
    "    # create grid to evaluate model\n",
    "    x = np.linspace(xlim[0], xlim[1], 31)\n",
    "    y = np.linspace(ylim[0], ylim[1], 31)\n",
    "    Y, X = np.meshgrid(y, x)\n",
    "    xy = np.vstack([X.ravel(), Y.ravel()]).T\n",
    "    P = model.decision_function(xy).reshape(X.shape)\n",
    "    \n",
    "    # plot decision boundary and margins\n",
    "    ax.contour(X, Y, P, colors='k',\n",
    "               levels=[-1, 0, 1], alpha=0.5,\n",
    "               linestyles=['--', '-', '--'])\n",
    "    \n",
    "    # plot support vectors\n",
    "    if plot_support:\n",
    "        ax.scatter(model.support_vectors_[:, 0],\n",
    "                   model.support_vectors_[:, 1],\n",
    "                   s=300, linewidth=1, facecolors='none');\n",
    "    ax.set_xlim(xlim)\n",
    "    ax.set_ylim(ylim)"
   ]
  },
  {
   "cell_type": "code",
   "execution_count": 5,
   "id": "serial-sharing",
   "metadata": {},
   "outputs": [
    {
     "data": {
      "image/png": "[encoded data removed]",
      "text/plain": [
       "<Figure size 432x288 with 1 Axes>"
      ]
     },
     "metadata": {
      "needs_background": "light"
     },
     "output_type": "display_data"
    }
   ],
   "source": [
    "import matplotlib.pyplot as plt\n",
    "plt.scatter(X[:, 0], X[:, 1], c=y, s=50, cmap='autumn')\n",
    "plt.grid()\n",
    "plot_svc_decision_function(model);"
   ]
  },
  {
   "cell_type": "code",
   "execution_count": null,
   "id": "acute-hello",
   "metadata": {},
   "outputs": [],
   "source": []
  },
  {
   "cell_type": "code",
   "execution_count": null,
   "id": "environmental-prefix",
   "metadata": {},
   "outputs": [],
   "source": []
  }
 ],
 "metadata": {
  "kernelspec": {
   "display_name": "Python 3",
   "language": "python",
   "name": "python3"
  },
  "language_info": {
   "codemirror_mode": {
    "name": "ipython",
    "version": 3
   },
   "file_extension": ".py",
   "mimetype": "text/x-python",
   "name": "python",
   "nbconvert_exporter": "python",
   "pygments_lexer": "ipython3",
   "version": "3.8.5"
  }
 },
 "nbformat": 4,
 "nbformat_minor": 5
}
