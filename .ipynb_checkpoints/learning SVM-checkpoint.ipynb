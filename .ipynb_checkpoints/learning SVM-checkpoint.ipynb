{
 "cells": [
  {
   "cell_type": "code",
   "execution_count": 1,
   "metadata": {},
   "outputs": [],
   "source": [
    "%matplotlib inline\n",
    "import numpy as np\n",
    "import matplotlib.pyplot as plt\n",
    "from scipy import stats\n",
    "\n",
    "# use seaborn plotting defaults\n",
    "import seaborn as sns; sns.set()"
   ]
  },
  {
   "cell_type": "code",
   "execution_count": 2,
   "metadata": {},
   "outputs": [
    {
     "name": "stderr",
     "output_type": "stream",
     "text": [
      "/opt/conda/lib/python3.8/site-packages/sklearn/utils/deprecation.py:143: FutureWarning: The sklearn.datasets.samples_generator module is  deprecated in version 0.22 and will be removed in version 0.24. The corresponding classes / functions should instead be imported from sklearn.datasets. Anything that cannot be imported from sklearn.datasets is now part of the private API.\n",
      "  warnings.warn(message, FutureWarning)\n"
     ]
    },
    {
     "data": {
      "image/png": "[encoded data removed]",
      "text/plain": [
       "<Figure size 432x288 with 1 Axes>"
      ]
     },
     "metadata": {},
     "output_type": "display_data"
    }
   ],
   "source": [
    "from sklearn.datasets.samples_generator import make_blobs\n",
    "X, y = make_blobs(n_samples=50, centers=2,\n",
    "                  random_state=0, cluster_std=0.60)\n",
    "plt.scatter(X[:, 0], X[:, 1], c=y, s=50, cmap='autumn');"
   ]
  },
  {
   "cell_type": "code",
   "execution_count": 3,
   "metadata": {},
   "outputs": [
    {
     "data": {
      "text/plain": [
       "array([[ 1.41281595,  1.5303347 ],\n",
       "       [ 1.81336135,  1.6311307 ],\n",
       "       [ 1.43289271,  4.37679234],\n",
       "       [ 1.87271752,  4.18069237],\n",
       "       [ 2.09517785,  1.0791468 ],\n",
       "       [ 2.73890793,  0.15676817],\n",
       "       [ 3.18515794,  0.08900822],\n",
       "       [ 2.06156753,  1.96918596],\n",
       "       [ 2.03835818,  1.15466278],\n",
       "       [-0.04749204,  5.47425256],\n",
       "       [ 1.71444449,  5.02521524],\n",
       "       [ 0.22459286,  4.77028154],\n",
       "       [ 1.06923853,  4.53068484],\n",
       "       [ 1.53278923,  0.55035386],\n",
       "       [ 1.4949318 ,  3.85848832],\n",
       "       [ 1.1641107 ,  3.79132988],\n",
       "       [ 0.74387399,  4.12240568],\n",
       "       [ 2.29667251,  0.48677761],\n",
       "       [ 0.44359863,  3.11530945],\n",
       "       [ 0.91433877,  4.55014643],\n",
       "       [ 1.67467427,  0.68001896],\n",
       "       [ 2.26908736,  1.32160756],\n",
       "       [ 1.5108885 ,  0.9288309 ],\n",
       "       [ 1.65179125,  0.68193176],\n",
       "       [ 2.49272186,  0.97505341],\n",
       "       [ 2.33812285,  3.43116792],\n",
       "       [ 0.67047877,  4.04094275],\n",
       "       [-0.55552381,  4.69595848],\n",
       "       [ 2.16172321,  0.6565951 ],\n",
       "       [ 2.09680487,  3.7174206 ],\n",
       "       [ 2.18023251,  1.48364708],\n",
       "       [ 0.43899014,  4.53592883],\n",
       "       [ 1.24258802,  4.50399192],\n",
       "       [ 0.00793137,  4.17614316],\n",
       "       [ 1.89593761,  5.18540259],\n",
       "       [ 1.868336  ,  0.93136287],\n",
       "       [ 2.13141478,  1.13885728],\n",
       "       [ 1.06269622,  5.17635143],\n",
       "       [ 2.33466499, -0.02408255],\n",
       "       [ 0.669787  ,  3.59540802],\n",
       "       [ 1.07714851,  1.17533301],\n",
       "       [ 1.54632313,  4.212973  ],\n",
       "       [ 1.56737975, -0.1381059 ],\n",
       "       [ 1.35617762,  1.43815955],\n",
       "       [ 1.00372519,  4.19147702],\n",
       "       [ 1.29297652,  1.47930168],\n",
       "       [ 2.94821884,  2.03519717],\n",
       "       [ 0.3471383 ,  3.45177657],\n",
       "       [ 2.76253526,  0.78970876],\n",
       "       [ 0.76752279,  4.39759671]])"
      ]
     },
     "execution_count": 3,
     "metadata": {},
     "output_type": "execute_result"
    }
   ],
   "source": [
    "X"
   ]
  },
  {
   "cell_type": "code",
   "execution_count": 4,
   "metadata": {},
   "outputs": [
    {
     "data": {
      "text/plain": [
       "(50, 2)"
      ]
     },
     "execution_count": 4,
     "metadata": {},
     "output_type": "execute_result"
    }
   ],
   "source": [
    "X.shape"
   ]
  },
  {
   "cell_type": "code",
   "execution_count": 5,
   "metadata": {},
   "outputs": [
    {
     "data": {
      "text/plain": [
       "array([1, 1, 0, 0, 1, 1, 1, 1, 1, 0, 0, 0, 0, 1, 0, 0, 0, 1, 0, 0, 1, 1,\n",
       "       1, 1, 1, 0, 0, 0, 1, 0, 1, 0, 0, 0, 0, 1, 1, 0, 1, 0, 1, 0, 1, 1,\n",
       "       0, 1, 1, 0, 1, 0])"
      ]
     },
     "execution_count": 5,
     "metadata": {},
     "output_type": "execute_result"
    }
   ],
   "source": [
    "y"
   ]
  },
  {
   "cell_type": "code",
   "execution_count": 9,
   "metadata": {},
   "outputs": [
    {
     "data": {
      "text/plain": [
       "50"
      ]
     },
     "execution_count": 9,
     "metadata": {},
     "output_type": "execute_result"
    }
   ],
   "source": [
    "len(y)"
   ]
  },
  {
   "cell_type": "code",
   "execution_count": null,
   "metadata": {},
   "outputs": [],
   "source": [
    "y is label of each coordinates in X, so the 3rd coordinate is 0 which means it's in red cluster\n",
    "1 is yellow cluster"
   ]
  },
  {
   "cell_type": "code",
   "execution_count": 6,
   "metadata": {},
   "outputs": [
    {
     "data": {
      "text/plain": [
       "array([ 1.41281595,  1.81336135,  1.43289271,  1.87271752,  2.09517785,\n",
       "        2.73890793,  3.18515794,  2.06156753,  2.03835818, -0.04749204,\n",
       "        1.71444449,  0.22459286,  1.06923853,  1.53278923,  1.4949318 ,\n",
       "        1.1641107 ,  0.74387399,  2.29667251,  0.44359863,  0.91433877,\n",
       "        1.67467427,  2.26908736,  1.5108885 ,  1.65179125,  2.49272186,\n",
       "        2.33812285,  0.67047877, -0.55552381,  2.16172321,  2.09680487,\n",
       "        2.18023251,  0.43899014,  1.24258802,  0.00793137,  1.89593761,\n",
       "        1.868336  ,  2.13141478,  1.06269622,  2.33466499,  0.669787  ,\n",
       "        1.07714851,  1.54632313,  1.56737975,  1.35617762,  1.00372519,\n",
       "        1.29297652,  2.94821884,  0.3471383 ,  2.76253526,  0.76752279])"
      ]
     },
     "execution_count": 6,
     "metadata": {},
     "output_type": "execute_result"
    }
   ],
   "source": [
    "X[:,0]"
   ]
  },
  {
   "cell_type": "code",
   "execution_count": 7,
   "metadata": {},
   "outputs": [
    {
     "data": {
      "text/plain": [
       "array([ 1.5303347 ,  1.6311307 ,  4.37679234,  4.18069237,  1.0791468 ,\n",
       "        0.15676817,  0.08900822,  1.96918596,  1.15466278,  5.47425256,\n",
       "        5.02521524,  4.77028154,  4.53068484,  0.55035386,  3.85848832,\n",
       "        3.79132988,  4.12240568,  0.48677761,  3.11530945,  4.55014643,\n",
       "        0.68001896,  1.32160756,  0.9288309 ,  0.68193176,  0.97505341,\n",
       "        3.43116792,  4.04094275,  4.69595848,  0.6565951 ,  3.7174206 ,\n",
       "        1.48364708,  4.53592883,  4.50399192,  4.17614316,  5.18540259,\n",
       "        0.93136287,  1.13885728,  5.17635143, -0.02408255,  3.59540802,\n",
       "        1.17533301,  4.212973  , -0.1381059 ,  1.43815955,  4.19147702,\n",
       "        1.47930168,  2.03519717,  3.45177657,  0.78970876,  4.39759671])"
      ]
     },
     "execution_count": 7,
     "metadata": {},
     "output_type": "execute_result"
    }
   ],
   "source": [
    "X[:,1]"
   ]
  },
  {
   "cell_type": "code",
   "execution_count": 10,
   "metadata": {},
   "outputs": [
    {
     "data": {
      "text/plain": [
       "SVC(C=10000000000.0, kernel='linear')"
      ]
     },
     "execution_count": 10,
     "metadata": {},
     "output_type": "execute_result"
    }
   ],
   "source": [
    "from sklearn.svm import SVC # \"Support vector classifier\"\n",
    "model = SVC(kernel='linear', C=1E10)\n",
    "model.fit(X, y)"
   ]
  },
  {
   "cell_type": "code",
   "execution_count": 11,
   "metadata": {},
   "outputs": [],
   "source": [
    "def plot_svc_decision_function(model, ax=None, plot_support=True):\n",
    "    \"\"\"Plot the decision function for a 2D SVC\"\"\"\n",
    "    if ax is None:\n",
    "        ax = plt.gca()\n",
    "    xlim = ax.get_xlim()\n",
    "    ylim = ax.get_ylim()\n",
    "    \n",
    "    # create grid to evaluate model\n",
    "    x = np.linspace(xlim[0], xlim[1], 30)\n",
    "    y = np.linspace(ylim[0], ylim[1], 30)\n",
    "    Y, X = np.meshgrid(y, x)\n",
    "    xy = np.vstack([X.ravel(), Y.ravel()]).T\n",
    "    P = model.decision_function(xy).reshape(X.shape)\n",
    "    \n",
    "    # plot decision boundary and margins\n",
    "    ax.contour(X, Y, P, colors='k',\n",
    "               levels=[-1, 0, 1], alpha=0.5,\n",
    "               linestyles=['--', '-', '--'])\n",
    "    \n",
    "    # plot support vectors\n",
    "    if plot_support:\n",
    "        ax.scatter(model.support_vectors_[:, 0],\n",
    "                   model.support_vectors_[:, 1],\n",
    "                   s=300, linewidth=1, facecolors='none');\n",
    "    ax.set_xlim(xlim)\n",
    "    ax.set_ylim(ylim)"
   ]
  },
  {
   "cell_type": "code",
   "execution_count": 12,
   "metadata": {},
   "outputs": [
    {
     "data": {
      "image/png": "[encoded data removed]",
      "text/plain": [
       "<Figure size 432x288 with 1 Axes>"
      ]
     },
     "metadata": {},
     "output_type": "display_data"
    }
   ],
   "source": [
    "plt.scatter(X[:, 0], X[:, 1], c=y, s=50, cmap='autumn')\n",
    "plot_svc_decision_function(model);"
   ]
  },
  {
   "cell_type": "code",
   "execution_count": 30,
   "metadata": {},
   "outputs": [
    {
     "name": "stderr",
     "output_type": "stream",
     "text": [
      "<ipython-input-30-8c428afa7d16>:10: UserWarning: No contour levels were found within the data range.\n",
      "  ax.contour(X, Y, P, colors='k',\n"
     ]
    },
    {
     "data": {
      "image/png": "[encoded data removed]",
      "text/plain": [
       "<Figure size 432x288 with 1 Axes>"
      ]
     },
     "metadata": {},
     "output_type": "display_data"
    }
   ],
   "source": [
    "ax = plt.gca()\n",
    "xlim = ax.get_xlim()\n",
    "ylim = ax.get_ylim()\n",
    "x = np.linspace(xlim[0], xlim[1], 30)\n",
    "y = np.linspace(ylim[0], ylim[1], 30)\n",
    "Y, X = np.meshgrid(y, x)\n",
    "xy = np.vstack([X.ravel(), Y.ravel()]).T\n",
    "P = model.decision_function(xy).reshape(X.shape)\n",
    "\n",
    "ax.contour(X, Y, P, colors='k',\n",
    "               levels=[-1, 0, 1], alpha=0.5,\n",
    "               linestyles=['--', '-', '--'])\n",
    "ax.scatter(model.support_vectors_[:, 0],\n",
    "                   model.support_vectors_[:, 1],\n",
    "                   s=300, linewidth=1, facecolors='none');\n",
    "ax.set_xlim(xlim)\n",
    "ax.set_ylim(ylim)\n",
    "\n",
    "บรรทัดไหนที่เป็นคน print SVM 3 เส้นยังไม่รู้เลย"
   ]
  },
  {
   "cell_type": "code",
   "execution_count": null,
   "metadata": {},
   "outputs": [],
   "source": [
    "อยากได้คำสั่งของเส้นนั้นมา แล้วก็ต้องมาแปลงเส้นนั้นเป็น equation อีกที"
   ]
  },
  {
   "cell_type": "code",
   "execution_count": 46,
   "metadata": {},
   "outputs": [
    {
     "data": {
      "text/plain": [
       "<AxesSubplot:>"
      ]
     },
     "execution_count": 46,
     "metadata": {},
     "output_type": "execute_result"
    },
    {
     "data": {
      "image/png": "[encoded data removed]",
      "text/plain": [
       "<Figure size 432x288 with 1 Axes>"
      ]
     },
     "metadata": {},
     "output_type": "display_data"
    }
   ],
   "source": [
    "ax = plt.gca()\n",
    "ax"
   ]
  },
  {
   "cell_type": "code",
   "execution_count": null,
   "metadata": {},
   "outputs": [],
   "source": []
  },
  {
   "cell_type": "code",
   "execution_count": 31,
   "metadata": {},
   "outputs": [
    {
     "data": {
      "text/plain": [
       "array([[0.        , 0.        ],\n",
       "       [0.        , 0.03448276],\n",
       "       [0.        , 0.06896552],\n",
       "       ...,\n",
       "       [1.        , 0.93103448],\n",
       "       [1.        , 0.96551724],\n",
       "       [1.        , 1.        ]])"
      ]
     },
     "execution_count": 31,
     "metadata": {},
     "output_type": "execute_result"
    }
   ],
   "source": [
    "xy"
   ]
  },
  {
   "cell_type": "code",
   "execution_count": 32,
   "metadata": {},
   "outputs": [
    {
     "data": {
      "text/plain": [
       "array([[3.29634152, 3.24763435, 3.19892718, 3.15022002, 3.10151285,\n",
       "        3.05280568, 3.00409852, 2.95539135, 2.90668419, 2.85797702,\n",
       "        2.80926985, 2.76056269, 2.71185552, 2.66314835, 2.61444119,\n",
       "        2.56573402, 2.51702685, 2.46831969, 2.41961252, 2.37090535,\n",
       "        2.32219819, 2.27349102, 2.22478385, 2.17607669, 2.12736952,\n",
       "        2.07866236, 2.02995519, 1.98124802, 1.93254086, 1.88383369],\n",
       "       [3.30445382, 3.25574666, 3.20703949, 3.15833233, 3.10962516,\n",
       "        3.06091799, 3.01221083, 2.96350366, 2.91479649, 2.86608933,\n",
       "        2.81738216, 2.76867499, 2.71996783, 2.67126066, 2.62255349,\n",
       "        2.57384633, 2.52513916, 2.476432  , 2.42772483, 2.37901766,\n",
       "        2.3303105 , 2.28160333, 2.23289616, 2.184189  , 2.13548183,\n",
       "        2.08677466, 2.0380675 , 1.98936033, 1.94065316, 1.891946  ],\n",
       "       [3.31256613, 3.26385897, 3.2151518 , 3.16644463, 3.11773747,\n",
       "        3.0690303 , 3.02032313, 2.97161597, 2.9229088 , 2.87420163,\n",
       "        2.82549447, 2.7767873 , 2.72808014, 2.67937297, 2.6306658 ,\n",
       "        2.58195864, 2.53325147, 2.4845443 , 2.43583714, 2.38712997,\n",
       "        2.3384228 , 2.28971564, 2.24100847, 2.1923013 , 2.14359414,\n",
       "        2.09488697, 2.04617981, 1.99747264, 1.94876547, 1.90005831],\n",
       "       [3.32067844, 3.27197127, 3.22326411, 3.17455694, 3.12584978,\n",
       "        3.07714261, 3.02843544, 2.97972828, 2.93102111, 2.88231394,\n",
       "        2.83360678, 2.78489961, 2.73619244, 2.68748528, 2.63877811,\n",
       "        2.59007094, 2.54136378, 2.49265661, 2.44394944, 2.39524228,\n",
       "        2.34653511, 2.29782795, 2.24912078, 2.20041361, 2.15170645,\n",
       "        2.10299928, 2.05429211, 2.00558495, 1.95687778, 1.90817061],\n",
       "       [3.32879075, 3.28008358, 3.23137642, 3.18266925, 3.13396208,\n",
       "        3.08525492, 3.03654775, 2.98784058, 2.93913342, 2.89042625,\n",
       "        2.84171908, 2.79301192, 2.74430475, 2.69559759, 2.64689042,\n",
       "        2.59818325, 2.54947609, 2.50076892, 2.45206175, 2.40335459,\n",
       "        2.35464742, 2.30594025, 2.25723309, 2.20852592, 2.15981875,\n",
       "        2.11111159, 2.06240442, 2.01369725, 1.96499009, 1.91628292],\n",
       "       [3.33690306, 3.28819589, 3.23948872, 3.19078156, 3.14207439,\n",
       "        3.09336723, 3.04466006, 2.99595289, 2.94724573, 2.89853856,\n",
       "        2.84983139, 2.80112423, 2.75241706, 2.70370989, 2.65500273,\n",
       "        2.60629556, 2.55758839, 2.50888123, 2.46017406, 2.41146689,\n",
       "        2.36275973, 2.31405256, 2.2653454 , 2.21663823, 2.16793106,\n",
       "        2.1192239 , 2.07051673, 2.02180956, 1.9731024 , 1.92439523],\n",
       "       [3.34501537, 3.2963082 , 3.24760103, 3.19889387, 3.1501867 ,\n",
       "        3.10147953, 3.05277237, 3.0040652 , 2.95535803, 2.90665087,\n",
       "        2.8579437 , 2.80923653, 2.76052937, 2.7118222 , 2.66311504,\n",
       "        2.61440787, 2.5657007 , 2.51699354, 2.46828637, 2.4195792 ,\n",
       "        2.37087204, 2.32216487, 2.2734577 , 2.22475054, 2.17604337,\n",
       "        2.1273362 , 2.07862904, 2.02992187, 1.9812147 , 1.93250754],\n",
       "       [3.35312767, 3.30442051, 3.25571334, 3.20700617, 3.15829901,\n",
       "        3.10959184, 3.06088468, 3.01217751, 2.96347034, 2.91476318,\n",
       "        2.86605601, 2.81734884, 2.76864168, 2.71993451, 2.67122734,\n",
       "        2.62252018, 2.57381301, 2.52510584, 2.47639868, 2.42769151,\n",
       "        2.37898434, 2.33027718, 2.28157001, 2.23286285, 2.18415568,\n",
       "        2.13544851, 2.08674135, 2.03803418, 1.98932701, 1.94061985],\n",
       "       [3.36123998, 3.31253282, 3.26382565, 3.21511848, 3.16641132,\n",
       "        3.11770415, 3.06899698, 3.02028982, 2.97158265, 2.92287548,\n",
       "        2.87416832, 2.82546115, 2.77675398, 2.72804682, 2.67933965,\n",
       "        2.63063249, 2.58192532, 2.53321815, 2.48451099, 2.43580382,\n",
       "        2.38709665, 2.33838949, 2.28968232, 2.24097515, 2.19226799,\n",
       "        2.14356082, 2.09485365, 2.04614649, 1.99743932, 1.94873215],\n",
       "       [3.36935229, 3.32064512, 3.27193796, 3.22323079, 3.17452362,\n",
       "        3.12581646, 3.07710929, 3.02840212, 2.97969496, 2.93098779,\n",
       "        2.88228063, 2.83357346, 2.78486629, 2.73615913, 2.68745196,\n",
       "        2.63874479, 2.59003763, 2.54133046, 2.49262329, 2.44391613,\n",
       "        2.39520896, 2.34650179, 2.29779463, 2.24908746, 2.2003803 ,\n",
       "        2.15167313, 2.10296596, 2.0542588 , 2.00555163, 1.95684446],\n",
       "       [3.3774646 , 3.32875743, 3.28005027, 3.2313431 , 3.18263593,\n",
       "        3.13392877, 3.0852216 , 3.03651443, 2.98780727, 2.9391001 ,\n",
       "        2.89039293, 2.84168577, 2.7929786 , 2.74427143, 2.69556427,\n",
       "        2.6468571 , 2.59814993, 2.54944277, 2.5007356 , 2.45202844,\n",
       "        2.40332127, 2.3546141 , 2.30590694, 2.25719977, 2.2084926 ,\n",
       "        2.15978544, 2.11107827, 2.0623711 , 2.01366394, 1.96495677],\n",
       "       [3.38557691, 3.33686974, 3.28816257, 3.23945541, 3.19074824,\n",
       "        3.14204107, 3.09333391, 3.04462674, 2.99591957, 2.94721241,\n",
       "        2.89850524, 2.84979808, 2.80109091, 2.75238374, 2.70367658,\n",
       "        2.65496941, 2.60626224, 2.55755508, 2.50884791, 2.46014074,\n",
       "        2.41143358, 2.36272641, 2.31401924, 2.26531208, 2.21660491,\n",
       "        2.16789774, 2.11919058, 2.07048341, 2.02177625, 1.97306908],\n",
       "       [3.39368921, 3.34498205, 3.29627488, 3.24756772, 3.19886055,\n",
       "        3.15015338, 3.10144622, 3.05273905, 3.00403188, 2.95532472,\n",
       "        2.90661755, 2.85791038, 2.80920322, 2.76049605, 2.71178888,\n",
       "        2.66308172, 2.61437455, 2.56566738, 2.51696022, 2.46825305,\n",
       "        2.41954589, 2.37083872, 2.32213155, 2.27342439, 2.22471722,\n",
       "        2.17601005, 2.12730289, 2.07859572, 2.02988855, 1.98118139],\n",
       "       [3.40180152, 3.35309436, 3.30438719, 3.25568002, 3.20697286,\n",
       "        3.15826569, 3.10955852, 3.06085136, 3.01214419, 2.96343702,\n",
       "        2.91472986, 2.86602269, 2.81731553, 2.76860836, 2.71990119,\n",
       "        2.67119403, 2.62248686, 2.57377969, 2.52507253, 2.47636536,\n",
       "        2.42765819, 2.37895103, 2.33024386, 2.28153669, 2.23282953,\n",
       "        2.18412236, 2.13541519, 2.08670803, 2.03800086, 1.9892937 ],\n",
       "       [3.40991383, 3.36120666, 3.3124995 , 3.26379233, 3.21508517,\n",
       "        3.166378  , 3.11767083, 3.06896367, 3.0202565 , 2.97154933,\n",
       "        2.92284217, 2.874135  , 2.82542783, 2.77672067, 2.7280135 ,\n",
       "        2.67930633, 2.63059917, 2.581892  , 2.53318483, 2.48447767,\n",
       "        2.4357705 , 2.38706334, 2.33835617, 2.289649  , 2.24094184,\n",
       "        2.19223467, 2.1435275 , 2.09482034, 2.04611317, 1.997406  ],\n",
       "       [3.41802614, 3.36931897, 3.32061181, 3.27190464, 3.22319747,\n",
       "        3.17449031, 3.12578314, 3.07707597, 3.02836881, 2.97966164,\n",
       "        2.93095447, 2.88224731, 2.83354014, 2.78483298, 2.73612581,\n",
       "        2.68741864, 2.63871148, 2.59000431, 2.54129714, 2.49258998,\n",
       "        2.44388281, 2.39517564, 2.34646848, 2.29776131, 2.24905414,\n",
       "        2.20034698, 2.15163981, 2.10293264, 2.05422548, 2.00551831],\n",
       "       [3.42613845, 3.37743128, 3.32872411, 3.28001695, 3.23130978,\n",
       "        3.18260261, 3.13389545, 3.08518828, 3.03648112, 2.98777395,\n",
       "        2.93906678, 2.89035962, 2.84165245, 2.79294528, 2.74423812,\n",
       "        2.69553095, 2.64682378, 2.59811662, 2.54940945, 2.50070228,\n",
       "        2.45199512, 2.40328795, 2.35458079, 2.30587362, 2.25716645,\n",
       "        2.20845929, 2.15975212, 2.11104495, 2.06233779, 2.01363062],\n",
       "       [3.43425076, 3.38554359, 3.33683642, 3.28812926, 3.23942209,\n",
       "        3.19071492, 3.14200776, 3.09330059, 3.04459342, 2.99588626,\n",
       "        2.94717909, 2.89847192, 2.84976476, 2.80105759, 2.75235042,\n",
       "        2.70364326, 2.65493609, 2.60622893, 2.55752176, 2.50881459,\n",
       "        2.46010743, 2.41140026, 2.36269309, 2.31398593, 2.26527876,\n",
       "        2.21657159, 2.16786443, 2.11915726, 2.07045009, 2.02174293],\n",
       "       [3.44236306, 3.3936559 , 3.34494873, 3.29624156, 3.2475344 ,\n",
       "        3.19882723, 3.15012006, 3.1014129 , 3.05270573, 3.00399857,\n",
       "        2.9552914 , 2.90658423, 2.85787707, 2.8091699 , 2.76046273,\n",
       "        2.71175557, 2.6630484 , 2.61434123, 2.56563407, 2.5169269 ,\n",
       "        2.46821973, 2.41951257, 2.3708054 , 2.32209823, 2.27339107,\n",
       "        2.2246839 , 2.17597674, 2.12726957, 2.0785624 , 2.02985524],\n",
       "       [3.45047537, 3.40176821, 3.35306104, 3.30435387, 3.25564671,\n",
       "        3.20693954, 3.15823237, 3.10952521, 3.06081804, 3.01211087,\n",
       "        2.96340371, 2.91469654, 2.86598937, 2.81728221, 2.76857504,\n",
       "        2.71986787, 2.67116071, 2.62245354, 2.57374638, 2.52503921,\n",
       "        2.47633204, 2.42762488, 2.37891771, 2.33021054, 2.28150338,\n",
       "        2.23279621, 2.18408904, 2.13538188, 2.08667471, 2.03796754],\n",
       "       [3.45858768, 3.40988051, 3.36117335, 3.31246618, 3.26375901,\n",
       "        3.21505185, 3.16634468, 3.11763751, 3.06893035, 3.02022318,\n",
       "        2.97151602, 2.92280885, 2.87410168, 2.82539452, 2.77668735,\n",
       "        2.72798018, 2.67927302, 2.63056585, 2.58185868, 2.53315152,\n",
       "        2.48444435, 2.43573718, 2.38703002, 2.33832285, 2.28961568,\n",
       "        2.24090852, 2.19220135, 2.14349419, 2.09478702, 2.04607985],\n",
       "       [3.46669999, 3.41799282, 3.36928566, 3.32057849, 3.27187132,\n",
       "        3.22316416, 3.17445699, 3.12574982, 3.07704266, 3.02833549,\n",
       "        2.97962832, 2.93092116, 2.88221399, 2.83350682, 2.78479966,\n",
       "        2.73609249, 2.68738532, 2.63867816, 2.58997099, 2.54126383,\n",
       "        2.49255666, 2.44384949, 2.39514233, 2.34643516, 2.29772799,\n",
       "        2.24902083, 2.20031366, 2.15160649, 2.10289933, 2.05419216],\n",
       "       [3.4748123 , 3.42610513, 3.37739796, 3.3286908 , 3.27998363,\n",
       "        3.23127646, 3.1825693 , 3.13386213, 3.08515496, 3.0364478 ,\n",
       "        2.98774063, 2.93903347, 2.8903263 , 2.84161913, 2.79291197,\n",
       "        2.7442048 , 2.69549763, 2.64679047, 2.5980833 , 2.54937613,\n",
       "        2.50066897, 2.4519618 , 2.40325463, 2.35454747, 2.3058403 ,\n",
       "        2.25713313, 2.20842597, 2.1597188 , 2.11101164, 2.06230447],\n",
       "       [3.4829246 , 3.43421744, 3.38551027, 3.3368031 , 3.28809594,\n",
       "        3.23938877, 3.19068161, 3.14197444, 3.09326727, 3.04456011,\n",
       "        2.99585294, 2.94714577, 2.89843861, 2.84973144, 2.80102427,\n",
       "        2.75231711, 2.70360994, 2.65490277, 2.60619561, 2.55748844,\n",
       "        2.50878128, 2.46007411, 2.41136694, 2.36265978, 2.31395261,\n",
       "        2.26524544, 2.21653828, 2.16783111, 2.11912394, 2.07041678],\n",
       "       [3.49103691, 3.44232975, 3.39362258, 3.34491541, 3.29620825,\n",
       "        3.24750108, 3.19879391, 3.15008675, 3.10137958, 3.05267241,\n",
       "        3.00396525, 2.95525808, 2.90655091, 2.85784375, 2.80913658,\n",
       "        2.76042942, 2.71172225, 2.66301508, 2.61430792, 2.56560075,\n",
       "        2.51689358, 2.46818642, 2.41947925, 2.37077208, 2.32206492,\n",
       "        2.27335775, 2.22465058, 2.17594342, 2.12723625, 2.07852909],\n",
       "       [3.49914922, 3.45044205, 3.40173489, 3.35302772, 3.30432055,\n",
       "        3.25561339, 3.20690622, 3.15819906, 3.10949189, 3.06078472,\n",
       "        3.01207756, 2.96337039, 2.91466322, 2.86595606, 2.81724889,\n",
       "        2.76854172, 2.71983456, 2.67112739, 2.62242022, 2.57371306,\n",
       "        2.52500589, 2.47629872, 2.42759156, 2.37888439, 2.33017723,\n",
       "        2.28147006, 2.23276289, 2.18405573, 2.13534856, 2.08664139],\n",
       "       [3.50726153, 3.45855436, 3.4098472 , 3.36114003, 3.31243286,\n",
       "        3.2637257 , 3.21501853, 3.16631136, 3.1176042 , 3.06889703,\n",
       "        3.02018986, 2.9714827 , 2.92277553, 2.87406836, 2.8253612 ,\n",
       "        2.77665403, 2.72794687, 2.6792397 , 2.63053253, 2.58182537,\n",
       "        2.5331182 , 2.48441103, 2.43570387, 2.3869967 , 2.33828953,\n",
       "        2.28958237, 2.2408752 , 2.19216803, 2.14346087, 2.0947537 ],\n",
       "       [3.51537384, 3.46666667, 3.4179595 , 3.36925234, 3.32054517,\n",
       "        3.271838  , 3.22313084, 3.17442367, 3.12571651, 3.07700934,\n",
       "        3.02830217, 2.97959501, 2.93088784, 2.88218067, 2.83347351,\n",
       "        2.78476634, 2.73605917, 2.68735201, 2.63864484, 2.58993767,\n",
       "        2.54123051, 2.49252334, 2.44381617, 2.39510901, 2.34640184,\n",
       "        2.29769468, 2.24898751, 2.20028034, 2.15157318, 2.10286601],\n",
       "       [3.52348615, 3.47477898, 3.42607181, 3.37736465, 3.32865748,\n",
       "        3.27995031, 3.23124315, 3.18253598, 3.13382881, 3.08512165,\n",
       "        3.03641448, 2.98770731, 2.93900015, 2.89029298, 2.84158581,\n",
       "        2.79287865, 2.74417148, 2.69546432, 2.64675715, 2.59804998,\n",
       "        2.54934282, 2.50063565, 2.45192848, 2.40322132, 2.35451415,\n",
       "        2.30580698, 2.25709982, 2.20839265, 2.15968548, 2.11097832],\n",
       "       [3.53159845, 3.48289129, 3.43418412, 3.38547695, 3.33676979,\n",
       "        3.28806262, 3.23935545, 3.19064829, 3.14194112, 3.09323396,\n",
       "        3.04452679, 2.99581962, 2.94711246, 2.89840529, 2.84969812,\n",
       "        2.80099096, 2.75228379, 2.70357662, 2.65486946, 2.60616229,\n",
       "        2.55745512, 2.50874796, 2.46004079, 2.41133362, 2.36262646,\n",
       "        2.31391929, 2.26521213, 2.21650496, 2.16779779, 2.11909063]])"
      ]
     },
     "execution_count": 32,
     "metadata": {},
     "output_type": "execute_result"
    }
   ],
   "source": [
    "P"
   ]
  },
  {
   "cell_type": "code",
   "execution_count": 33,
   "metadata": {},
   "outputs": [
    {
     "data": {
      "text/plain": [
       "(30, 30)"
      ]
     },
     "execution_count": 33,
     "metadata": {},
     "output_type": "execute_result"
    }
   ],
   "source": [
    "P.shape"
   ]
  },
  {
   "cell_type": "code",
   "execution_count": 34,
   "metadata": {},
   "outputs": [
    {
     "data": {
      "text/plain": [
       "(array([[0.        , 0.03448276, 0.06896552, 0.10344828, 0.13793103,\n",
       "         0.17241379, 0.20689655, 0.24137931, 0.27586207, 0.31034483,\n",
       "         0.34482759, 0.37931034, 0.4137931 , 0.44827586, 0.48275862,\n",
       "         0.51724138, 0.55172414, 0.5862069 , 0.62068966, 0.65517241,\n",
       "         0.68965517, 0.72413793, 0.75862069, 0.79310345, 0.82758621,\n",
       "         0.86206897, 0.89655172, 0.93103448, 0.96551724, 1.        ],\n",
       "        [0.        , 0.03448276, 0.06896552, 0.10344828, 0.13793103,\n",
       "         0.17241379, 0.20689655, 0.24137931, 0.27586207, 0.31034483,\n",
       "         0.34482759, 0.37931034, 0.4137931 , 0.44827586, 0.48275862,\n",
       "         0.51724138, 0.55172414, 0.5862069 , 0.62068966, 0.65517241,\n",
       "         0.68965517, 0.72413793, 0.75862069, 0.79310345, 0.82758621,\n",
       "         0.86206897, 0.89655172, 0.93103448, 0.96551724, 1.        ],\n",
       "        [0.        , 0.03448276, 0.06896552, 0.10344828, 0.13793103,\n",
       "         0.17241379, 0.20689655, 0.24137931, 0.27586207, 0.31034483,\n",
       "         0.34482759, 0.37931034, 0.4137931 , 0.44827586, 0.48275862,\n",
       "         0.51724138, 0.55172414, 0.5862069 , 0.62068966, 0.65517241,\n",
       "         0.68965517, 0.72413793, 0.75862069, 0.79310345, 0.82758621,\n",
       "         0.86206897, 0.89655172, 0.93103448, 0.96551724, 1.        ],\n",
       "        [0.        , 0.03448276, 0.06896552, 0.10344828, 0.13793103,\n",
       "         0.17241379, 0.20689655, 0.24137931, 0.27586207, 0.31034483,\n",
       "         0.34482759, 0.37931034, 0.4137931 , 0.44827586, 0.48275862,\n",
       "         0.51724138, 0.55172414, 0.5862069 , 0.62068966, 0.65517241,\n",
       "         0.68965517, 0.72413793, 0.75862069, 0.79310345, 0.82758621,\n",
       "         0.86206897, 0.89655172, 0.93103448, 0.96551724, 1.        ],\n",
       "        [0.        , 0.03448276, 0.06896552, 0.10344828, 0.13793103,\n",
       "         0.17241379, 0.20689655, 0.24137931, 0.27586207, 0.31034483,\n",
       "         0.34482759, 0.37931034, 0.4137931 , 0.44827586, 0.48275862,\n",
       "         0.51724138, 0.55172414, 0.5862069 , 0.62068966, 0.65517241,\n",
       "         0.68965517, 0.72413793, 0.75862069, 0.79310345, 0.82758621,\n",
       "         0.86206897, 0.89655172, 0.93103448, 0.96551724, 1.        ],\n",
       "        [0.        , 0.03448276, 0.06896552, 0.10344828, 0.13793103,\n",
       "         0.17241379, 0.20689655, 0.24137931, 0.27586207, 0.31034483,\n",
       "         0.34482759, 0.37931034, 0.4137931 , 0.44827586, 0.48275862,\n",
       "         0.51724138, 0.55172414, 0.5862069 , 0.62068966, 0.65517241,\n",
       "         0.68965517, 0.72413793, 0.75862069, 0.79310345, 0.82758621,\n",
       "         0.86206897, 0.89655172, 0.93103448, 0.96551724, 1.        ],\n",
       "        [0.        , 0.03448276, 0.06896552, 0.10344828, 0.13793103,\n",
       "         0.17241379, 0.20689655, 0.24137931, 0.27586207, 0.31034483,\n",
       "         0.34482759, 0.37931034, 0.4137931 , 0.44827586, 0.48275862,\n",
       "         0.51724138, 0.55172414, 0.5862069 , 0.62068966, 0.65517241,\n",
       "         0.68965517, 0.72413793, 0.75862069, 0.79310345, 0.82758621,\n",
       "         0.86206897, 0.89655172, 0.93103448, 0.96551724, 1.        ],\n",
       "        [0.        , 0.03448276, 0.06896552, 0.10344828, 0.13793103,\n",
       "         0.17241379, 0.20689655, 0.24137931, 0.27586207, 0.31034483,\n",
       "         0.34482759, 0.37931034, 0.4137931 , 0.44827586, 0.48275862,\n",
       "         0.51724138, 0.55172414, 0.5862069 , 0.62068966, 0.65517241,\n",
       "         0.68965517, 0.72413793, 0.75862069, 0.79310345, 0.82758621,\n",
       "         0.86206897, 0.89655172, 0.93103448, 0.96551724, 1.        ],\n",
       "        [0.        , 0.03448276, 0.06896552, 0.10344828, 0.13793103,\n",
       "         0.17241379, 0.20689655, 0.24137931, 0.27586207, 0.31034483,\n",
       "         0.34482759, 0.37931034, 0.4137931 , 0.44827586, 0.48275862,\n",
       "         0.51724138, 0.55172414, 0.5862069 , 0.62068966, 0.65517241,\n",
       "         0.68965517, 0.72413793, 0.75862069, 0.79310345, 0.82758621,\n",
       "         0.86206897, 0.89655172, 0.93103448, 0.96551724, 1.        ],\n",
       "        [0.        , 0.03448276, 0.06896552, 0.10344828, 0.13793103,\n",
       "         0.17241379, 0.20689655, 0.24137931, 0.27586207, 0.31034483,\n",
       "         0.34482759, 0.37931034, 0.4137931 , 0.44827586, 0.48275862,\n",
       "         0.51724138, 0.55172414, 0.5862069 , 0.62068966, 0.65517241,\n",
       "         0.68965517, 0.72413793, 0.75862069, 0.79310345, 0.82758621,\n",
       "         0.86206897, 0.89655172, 0.93103448, 0.96551724, 1.        ],\n",
       "        [0.        , 0.03448276, 0.06896552, 0.10344828, 0.13793103,\n",
       "         0.17241379, 0.20689655, 0.24137931, 0.27586207, 0.31034483,\n",
       "         0.34482759, 0.37931034, 0.4137931 , 0.44827586, 0.48275862,\n",
       "         0.51724138, 0.55172414, 0.5862069 , 0.62068966, 0.65517241,\n",
       "         0.68965517, 0.72413793, 0.75862069, 0.79310345, 0.82758621,\n",
       "         0.86206897, 0.89655172, 0.93103448, 0.96551724, 1.        ],\n",
       "        [0.        , 0.03448276, 0.06896552, 0.10344828, 0.13793103,\n",
       "         0.17241379, 0.20689655, 0.24137931, 0.27586207, 0.31034483,\n",
       "         0.34482759, 0.37931034, 0.4137931 , 0.44827586, 0.48275862,\n",
       "         0.51724138, 0.55172414, 0.5862069 , 0.62068966, 0.65517241,\n",
       "         0.68965517, 0.72413793, 0.75862069, 0.79310345, 0.82758621,\n",
       "         0.86206897, 0.89655172, 0.93103448, 0.96551724, 1.        ],\n",
       "        [0.        , 0.03448276, 0.06896552, 0.10344828, 0.13793103,\n",
       "         0.17241379, 0.20689655, 0.24137931, 0.27586207, 0.31034483,\n",
       "         0.34482759, 0.37931034, 0.4137931 , 0.44827586, 0.48275862,\n",
       "         0.51724138, 0.55172414, 0.5862069 , 0.62068966, 0.65517241,\n",
       "         0.68965517, 0.72413793, 0.75862069, 0.79310345, 0.82758621,\n",
       "         0.86206897, 0.89655172, 0.93103448, 0.96551724, 1.        ],\n",
       "        [0.        , 0.03448276, 0.06896552, 0.10344828, 0.13793103,\n",
       "         0.17241379, 0.20689655, 0.24137931, 0.27586207, 0.31034483,\n",
       "         0.34482759, 0.37931034, 0.4137931 , 0.44827586, 0.48275862,\n",
       "         0.51724138, 0.55172414, 0.5862069 , 0.62068966, 0.65517241,\n",
       "         0.68965517, 0.72413793, 0.75862069, 0.79310345, 0.82758621,\n",
       "         0.86206897, 0.89655172, 0.93103448, 0.96551724, 1.        ],\n",
       "        [0.        , 0.03448276, 0.06896552, 0.10344828, 0.13793103,\n",
       "         0.17241379, 0.20689655, 0.24137931, 0.27586207, 0.31034483,\n",
       "         0.34482759, 0.37931034, 0.4137931 , 0.44827586, 0.48275862,\n",
       "         0.51724138, 0.55172414, 0.5862069 , 0.62068966, 0.65517241,\n",
       "         0.68965517, 0.72413793, 0.75862069, 0.79310345, 0.82758621,\n",
       "         0.86206897, 0.89655172, 0.93103448, 0.96551724, 1.        ],\n",
       "        [0.        , 0.03448276, 0.06896552, 0.10344828, 0.13793103,\n",
       "         0.17241379, 0.20689655, 0.24137931, 0.27586207, 0.31034483,\n",
       "         0.34482759, 0.37931034, 0.4137931 , 0.44827586, 0.48275862,\n",
       "         0.51724138, 0.55172414, 0.5862069 , 0.62068966, 0.65517241,\n",
       "         0.68965517, 0.72413793, 0.75862069, 0.79310345, 0.82758621,\n",
       "         0.86206897, 0.89655172, 0.93103448, 0.96551724, 1.        ],\n",
       "        [0.        , 0.03448276, 0.06896552, 0.10344828, 0.13793103,\n",
       "         0.17241379, 0.20689655, 0.24137931, 0.27586207, 0.31034483,\n",
       "         0.34482759, 0.37931034, 0.4137931 , 0.44827586, 0.48275862,\n",
       "         0.51724138, 0.55172414, 0.5862069 , 0.62068966, 0.65517241,\n",
       "         0.68965517, 0.72413793, 0.75862069, 0.79310345, 0.82758621,\n",
       "         0.86206897, 0.89655172, 0.93103448, 0.96551724, 1.        ],\n",
       "        [0.        , 0.03448276, 0.06896552, 0.10344828, 0.13793103,\n",
       "         0.17241379, 0.20689655, 0.24137931, 0.27586207, 0.31034483,\n",
       "         0.34482759, 0.37931034, 0.4137931 , 0.44827586, 0.48275862,\n",
       "         0.51724138, 0.55172414, 0.5862069 , 0.62068966, 0.65517241,\n",
       "         0.68965517, 0.72413793, 0.75862069, 0.79310345, 0.82758621,\n",
       "         0.86206897, 0.89655172, 0.93103448, 0.96551724, 1.        ],\n",
       "        [0.        , 0.03448276, 0.06896552, 0.10344828, 0.13793103,\n",
       "         0.17241379, 0.20689655, 0.24137931, 0.27586207, 0.31034483,\n",
       "         0.34482759, 0.37931034, 0.4137931 , 0.44827586, 0.48275862,\n",
       "         0.51724138, 0.55172414, 0.5862069 , 0.62068966, 0.65517241,\n",
       "         0.68965517, 0.72413793, 0.75862069, 0.79310345, 0.82758621,\n",
       "         0.86206897, 0.89655172, 0.93103448, 0.96551724, 1.        ],\n",
       "        [0.        , 0.03448276, 0.06896552, 0.10344828, 0.13793103,\n",
       "         0.17241379, 0.20689655, 0.24137931, 0.27586207, 0.31034483,\n",
       "         0.34482759, 0.37931034, 0.4137931 , 0.44827586, 0.48275862,\n",
       "         0.51724138, 0.55172414, 0.5862069 , 0.62068966, 0.65517241,\n",
       "         0.68965517, 0.72413793, 0.75862069, 0.79310345, 0.82758621,\n",
       "         0.86206897, 0.89655172, 0.93103448, 0.96551724, 1.        ],\n",
       "        [0.        , 0.03448276, 0.06896552, 0.10344828, 0.13793103,\n",
       "         0.17241379, 0.20689655, 0.24137931, 0.27586207, 0.31034483,\n",
       "         0.34482759, 0.37931034, 0.4137931 , 0.44827586, 0.48275862,\n",
       "         0.51724138, 0.55172414, 0.5862069 , 0.62068966, 0.65517241,\n",
       "         0.68965517, 0.72413793, 0.75862069, 0.79310345, 0.82758621,\n",
       "         0.86206897, 0.89655172, 0.93103448, 0.96551724, 1.        ],\n",
       "        [0.        , 0.03448276, 0.06896552, 0.10344828, 0.13793103,\n",
       "         0.17241379, 0.20689655, 0.24137931, 0.27586207, 0.31034483,\n",
       "         0.34482759, 0.37931034, 0.4137931 , 0.44827586, 0.48275862,\n",
       "         0.51724138, 0.55172414, 0.5862069 , 0.62068966, 0.65517241,\n",
       "         0.68965517, 0.72413793, 0.75862069, 0.79310345, 0.82758621,\n",
       "         0.86206897, 0.89655172, 0.93103448, 0.96551724, 1.        ],\n",
       "        [0.        , 0.03448276, 0.06896552, 0.10344828, 0.13793103,\n",
       "         0.17241379, 0.20689655, 0.24137931, 0.27586207, 0.31034483,\n",
       "         0.34482759, 0.37931034, 0.4137931 , 0.44827586, 0.48275862,\n",
       "         0.51724138, 0.55172414, 0.5862069 , 0.62068966, 0.65517241,\n",
       "         0.68965517, 0.72413793, 0.75862069, 0.79310345, 0.82758621,\n",
       "         0.86206897, 0.89655172, 0.93103448, 0.96551724, 1.        ],\n",
       "        [0.        , 0.03448276, 0.06896552, 0.10344828, 0.13793103,\n",
       "         0.17241379, 0.20689655, 0.24137931, 0.27586207, 0.31034483,\n",
       "         0.34482759, 0.37931034, 0.4137931 , 0.44827586, 0.48275862,\n",
       "         0.51724138, 0.55172414, 0.5862069 , 0.62068966, 0.65517241,\n",
       "         0.68965517, 0.72413793, 0.75862069, 0.79310345, 0.82758621,\n",
       "         0.86206897, 0.89655172, 0.93103448, 0.96551724, 1.        ],\n",
       "        [0.        , 0.03448276, 0.06896552, 0.10344828, 0.13793103,\n",
       "         0.17241379, 0.20689655, 0.24137931, 0.27586207, 0.31034483,\n",
       "         0.34482759, 0.37931034, 0.4137931 , 0.44827586, 0.48275862,\n",
       "         0.51724138, 0.55172414, 0.5862069 , 0.62068966, 0.65517241,\n",
       "         0.68965517, 0.72413793, 0.75862069, 0.79310345, 0.82758621,\n",
       "         0.86206897, 0.89655172, 0.93103448, 0.96551724, 1.        ],\n",
       "        [0.        , 0.03448276, 0.06896552, 0.10344828, 0.13793103,\n",
       "         0.17241379, 0.20689655, 0.24137931, 0.27586207, 0.31034483,\n",
       "         0.34482759, 0.37931034, 0.4137931 , 0.44827586, 0.48275862,\n",
       "         0.51724138, 0.55172414, 0.5862069 , 0.62068966, 0.65517241,\n",
       "         0.68965517, 0.72413793, 0.75862069, 0.79310345, 0.82758621,\n",
       "         0.86206897, 0.89655172, 0.93103448, 0.96551724, 1.        ],\n",
       "        [0.        , 0.03448276, 0.06896552, 0.10344828, 0.13793103,\n",
       "         0.17241379, 0.20689655, 0.24137931, 0.27586207, 0.31034483,\n",
       "         0.34482759, 0.37931034, 0.4137931 , 0.44827586, 0.48275862,\n",
       "         0.51724138, 0.55172414, 0.5862069 , 0.62068966, 0.65517241,\n",
       "         0.68965517, 0.72413793, 0.75862069, 0.79310345, 0.82758621,\n",
       "         0.86206897, 0.89655172, 0.93103448, 0.96551724, 1.        ],\n",
       "        [0.        , 0.03448276, 0.06896552, 0.10344828, 0.13793103,\n",
       "         0.17241379, 0.20689655, 0.24137931, 0.27586207, 0.31034483,\n",
       "         0.34482759, 0.37931034, 0.4137931 , 0.44827586, 0.48275862,\n",
       "         0.51724138, 0.55172414, 0.5862069 , 0.62068966, 0.65517241,\n",
       "         0.68965517, 0.72413793, 0.75862069, 0.79310345, 0.82758621,\n",
       "         0.86206897, 0.89655172, 0.93103448, 0.96551724, 1.        ],\n",
       "        [0.        , 0.03448276, 0.06896552, 0.10344828, 0.13793103,\n",
       "         0.17241379, 0.20689655, 0.24137931, 0.27586207, 0.31034483,\n",
       "         0.34482759, 0.37931034, 0.4137931 , 0.44827586, 0.48275862,\n",
       "         0.51724138, 0.55172414, 0.5862069 , 0.62068966, 0.65517241,\n",
       "         0.68965517, 0.72413793, 0.75862069, 0.79310345, 0.82758621,\n",
       "         0.86206897, 0.89655172, 0.93103448, 0.96551724, 1.        ],\n",
       "        [0.        , 0.03448276, 0.06896552, 0.10344828, 0.13793103,\n",
       "         0.17241379, 0.20689655, 0.24137931, 0.27586207, 0.31034483,\n",
       "         0.34482759, 0.37931034, 0.4137931 , 0.44827586, 0.48275862,\n",
       "         0.51724138, 0.55172414, 0.5862069 , 0.62068966, 0.65517241,\n",
       "         0.68965517, 0.72413793, 0.75862069, 0.79310345, 0.82758621,\n",
       "         0.86206897, 0.89655172, 0.93103448, 0.96551724, 1.        ]]),\n",
       " array([[0.        , 0.        , 0.        , 0.        , 0.        ,\n",
       "         0.        , 0.        , 0.        , 0.        , 0.        ,\n",
       "         0.        , 0.        , 0.        , 0.        , 0.        ,\n",
       "         0.        , 0.        , 0.        , 0.        , 0.        ,\n",
       "         0.        , 0.        , 0.        , 0.        , 0.        ,\n",
       "         0.        , 0.        , 0.        , 0.        , 0.        ],\n",
       "        [0.03448276, 0.03448276, 0.03448276, 0.03448276, 0.03448276,\n",
       "         0.03448276, 0.03448276, 0.03448276, 0.03448276, 0.03448276,\n",
       "         0.03448276, 0.03448276, 0.03448276, 0.03448276, 0.03448276,\n",
       "         0.03448276, 0.03448276, 0.03448276, 0.03448276, 0.03448276,\n",
       "         0.03448276, 0.03448276, 0.03448276, 0.03448276, 0.03448276,\n",
       "         0.03448276, 0.03448276, 0.03448276, 0.03448276, 0.03448276],\n",
       "        [0.06896552, 0.06896552, 0.06896552, 0.06896552, 0.06896552,\n",
       "         0.06896552, 0.06896552, 0.06896552, 0.06896552, 0.06896552,\n",
       "         0.06896552, 0.06896552, 0.06896552, 0.06896552, 0.06896552,\n",
       "         0.06896552, 0.06896552, 0.06896552, 0.06896552, 0.06896552,\n",
       "         0.06896552, 0.06896552, 0.06896552, 0.06896552, 0.06896552,\n",
       "         0.06896552, 0.06896552, 0.06896552, 0.06896552, 0.06896552],\n",
       "        [0.10344828, 0.10344828, 0.10344828, 0.10344828, 0.10344828,\n",
       "         0.10344828, 0.10344828, 0.10344828, 0.10344828, 0.10344828,\n",
       "         0.10344828, 0.10344828, 0.10344828, 0.10344828, 0.10344828,\n",
       "         0.10344828, 0.10344828, 0.10344828, 0.10344828, 0.10344828,\n",
       "         0.10344828, 0.10344828, 0.10344828, 0.10344828, 0.10344828,\n",
       "         0.10344828, 0.10344828, 0.10344828, 0.10344828, 0.10344828],\n",
       "        [0.13793103, 0.13793103, 0.13793103, 0.13793103, 0.13793103,\n",
       "         0.13793103, 0.13793103, 0.13793103, 0.13793103, 0.13793103,\n",
       "         0.13793103, 0.13793103, 0.13793103, 0.13793103, 0.13793103,\n",
       "         0.13793103, 0.13793103, 0.13793103, 0.13793103, 0.13793103,\n",
       "         0.13793103, 0.13793103, 0.13793103, 0.13793103, 0.13793103,\n",
       "         0.13793103, 0.13793103, 0.13793103, 0.13793103, 0.13793103],\n",
       "        [0.17241379, 0.17241379, 0.17241379, 0.17241379, 0.17241379,\n",
       "         0.17241379, 0.17241379, 0.17241379, 0.17241379, 0.17241379,\n",
       "         0.17241379, 0.17241379, 0.17241379, 0.17241379, 0.17241379,\n",
       "         0.17241379, 0.17241379, 0.17241379, 0.17241379, 0.17241379,\n",
       "         0.17241379, 0.17241379, 0.17241379, 0.17241379, 0.17241379,\n",
       "         0.17241379, 0.17241379, 0.17241379, 0.17241379, 0.17241379],\n",
       "        [0.20689655, 0.20689655, 0.20689655, 0.20689655, 0.20689655,\n",
       "         0.20689655, 0.20689655, 0.20689655, 0.20689655, 0.20689655,\n",
       "         0.20689655, 0.20689655, 0.20689655, 0.20689655, 0.20689655,\n",
       "         0.20689655, 0.20689655, 0.20689655, 0.20689655, 0.20689655,\n",
       "         0.20689655, 0.20689655, 0.20689655, 0.20689655, 0.20689655,\n",
       "         0.20689655, 0.20689655, 0.20689655, 0.20689655, 0.20689655],\n",
       "        [0.24137931, 0.24137931, 0.24137931, 0.24137931, 0.24137931,\n",
       "         0.24137931, 0.24137931, 0.24137931, 0.24137931, 0.24137931,\n",
       "         0.24137931, 0.24137931, 0.24137931, 0.24137931, 0.24137931,\n",
       "         0.24137931, 0.24137931, 0.24137931, 0.24137931, 0.24137931,\n",
       "         0.24137931, 0.24137931, 0.24137931, 0.24137931, 0.24137931,\n",
       "         0.24137931, 0.24137931, 0.24137931, 0.24137931, 0.24137931],\n",
       "        [0.27586207, 0.27586207, 0.27586207, 0.27586207, 0.27586207,\n",
       "         0.27586207, 0.27586207, 0.27586207, 0.27586207, 0.27586207,\n",
       "         0.27586207, 0.27586207, 0.27586207, 0.27586207, 0.27586207,\n",
       "         0.27586207, 0.27586207, 0.27586207, 0.27586207, 0.27586207,\n",
       "         0.27586207, 0.27586207, 0.27586207, 0.27586207, 0.27586207,\n",
       "         0.27586207, 0.27586207, 0.27586207, 0.27586207, 0.27586207],\n",
       "        [0.31034483, 0.31034483, 0.31034483, 0.31034483, 0.31034483,\n",
       "         0.31034483, 0.31034483, 0.31034483, 0.31034483, 0.31034483,\n",
       "         0.31034483, 0.31034483, 0.31034483, 0.31034483, 0.31034483,\n",
       "         0.31034483, 0.31034483, 0.31034483, 0.31034483, 0.31034483,\n",
       "         0.31034483, 0.31034483, 0.31034483, 0.31034483, 0.31034483,\n",
       "         0.31034483, 0.31034483, 0.31034483, 0.31034483, 0.31034483],\n",
       "        [0.34482759, 0.34482759, 0.34482759, 0.34482759, 0.34482759,\n",
       "         0.34482759, 0.34482759, 0.34482759, 0.34482759, 0.34482759,\n",
       "         0.34482759, 0.34482759, 0.34482759, 0.34482759, 0.34482759,\n",
       "         0.34482759, 0.34482759, 0.34482759, 0.34482759, 0.34482759,\n",
       "         0.34482759, 0.34482759, 0.34482759, 0.34482759, 0.34482759,\n",
       "         0.34482759, 0.34482759, 0.34482759, 0.34482759, 0.34482759],\n",
       "        [0.37931034, 0.37931034, 0.37931034, 0.37931034, 0.37931034,\n",
       "         0.37931034, 0.37931034, 0.37931034, 0.37931034, 0.37931034,\n",
       "         0.37931034, 0.37931034, 0.37931034, 0.37931034, 0.37931034,\n",
       "         0.37931034, 0.37931034, 0.37931034, 0.37931034, 0.37931034,\n",
       "         0.37931034, 0.37931034, 0.37931034, 0.37931034, 0.37931034,\n",
       "         0.37931034, 0.37931034, 0.37931034, 0.37931034, 0.37931034],\n",
       "        [0.4137931 , 0.4137931 , 0.4137931 , 0.4137931 , 0.4137931 ,\n",
       "         0.4137931 , 0.4137931 , 0.4137931 , 0.4137931 , 0.4137931 ,\n",
       "         0.4137931 , 0.4137931 , 0.4137931 , 0.4137931 , 0.4137931 ,\n",
       "         0.4137931 , 0.4137931 , 0.4137931 , 0.4137931 , 0.4137931 ,\n",
       "         0.4137931 , 0.4137931 , 0.4137931 , 0.4137931 , 0.4137931 ,\n",
       "         0.4137931 , 0.4137931 , 0.4137931 , 0.4137931 , 0.4137931 ],\n",
       "        [0.44827586, 0.44827586, 0.44827586, 0.44827586, 0.44827586,\n",
       "         0.44827586, 0.44827586, 0.44827586, 0.44827586, 0.44827586,\n",
       "         0.44827586, 0.44827586, 0.44827586, 0.44827586, 0.44827586,\n",
       "         0.44827586, 0.44827586, 0.44827586, 0.44827586, 0.44827586,\n",
       "         0.44827586, 0.44827586, 0.44827586, 0.44827586, 0.44827586,\n",
       "         0.44827586, 0.44827586, 0.44827586, 0.44827586, 0.44827586],\n",
       "        [0.48275862, 0.48275862, 0.48275862, 0.48275862, 0.48275862,\n",
       "         0.48275862, 0.48275862, 0.48275862, 0.48275862, 0.48275862,\n",
       "         0.48275862, 0.48275862, 0.48275862, 0.48275862, 0.48275862,\n",
       "         0.48275862, 0.48275862, 0.48275862, 0.48275862, 0.48275862,\n",
       "         0.48275862, 0.48275862, 0.48275862, 0.48275862, 0.48275862,\n",
       "         0.48275862, 0.48275862, 0.48275862, 0.48275862, 0.48275862],\n",
       "        [0.51724138, 0.51724138, 0.51724138, 0.51724138, 0.51724138,\n",
       "         0.51724138, 0.51724138, 0.51724138, 0.51724138, 0.51724138,\n",
       "         0.51724138, 0.51724138, 0.51724138, 0.51724138, 0.51724138,\n",
       "         0.51724138, 0.51724138, 0.51724138, 0.51724138, 0.51724138,\n",
       "         0.51724138, 0.51724138, 0.51724138, 0.51724138, 0.51724138,\n",
       "         0.51724138, 0.51724138, 0.51724138, 0.51724138, 0.51724138],\n",
       "        [0.55172414, 0.55172414, 0.55172414, 0.55172414, 0.55172414,\n",
       "         0.55172414, 0.55172414, 0.55172414, 0.55172414, 0.55172414,\n",
       "         0.55172414, 0.55172414, 0.55172414, 0.55172414, 0.55172414,\n",
       "         0.55172414, 0.55172414, 0.55172414, 0.55172414, 0.55172414,\n",
       "         0.55172414, 0.55172414, 0.55172414, 0.55172414, 0.55172414,\n",
       "         0.55172414, 0.55172414, 0.55172414, 0.55172414, 0.55172414],\n",
       "        [0.5862069 , 0.5862069 , 0.5862069 , 0.5862069 , 0.5862069 ,\n",
       "         0.5862069 , 0.5862069 , 0.5862069 , 0.5862069 , 0.5862069 ,\n",
       "         0.5862069 , 0.5862069 , 0.5862069 , 0.5862069 , 0.5862069 ,\n",
       "         0.5862069 , 0.5862069 , 0.5862069 , 0.5862069 , 0.5862069 ,\n",
       "         0.5862069 , 0.5862069 , 0.5862069 , 0.5862069 , 0.5862069 ,\n",
       "         0.5862069 , 0.5862069 , 0.5862069 , 0.5862069 , 0.5862069 ],\n",
       "        [0.62068966, 0.62068966, 0.62068966, 0.62068966, 0.62068966,\n",
       "         0.62068966, 0.62068966, 0.62068966, 0.62068966, 0.62068966,\n",
       "         0.62068966, 0.62068966, 0.62068966, 0.62068966, 0.62068966,\n",
       "         0.62068966, 0.62068966, 0.62068966, 0.62068966, 0.62068966,\n",
       "         0.62068966, 0.62068966, 0.62068966, 0.62068966, 0.62068966,\n",
       "         0.62068966, 0.62068966, 0.62068966, 0.62068966, 0.62068966],\n",
       "        [0.65517241, 0.65517241, 0.65517241, 0.65517241, 0.65517241,\n",
       "         0.65517241, 0.65517241, 0.65517241, 0.65517241, 0.65517241,\n",
       "         0.65517241, 0.65517241, 0.65517241, 0.65517241, 0.65517241,\n",
       "         0.65517241, 0.65517241, 0.65517241, 0.65517241, 0.65517241,\n",
       "         0.65517241, 0.65517241, 0.65517241, 0.65517241, 0.65517241,\n",
       "         0.65517241, 0.65517241, 0.65517241, 0.65517241, 0.65517241],\n",
       "        [0.68965517, 0.68965517, 0.68965517, 0.68965517, 0.68965517,\n",
       "         0.68965517, 0.68965517, 0.68965517, 0.68965517, 0.68965517,\n",
       "         0.68965517, 0.68965517, 0.68965517, 0.68965517, 0.68965517,\n",
       "         0.68965517, 0.68965517, 0.68965517, 0.68965517, 0.68965517,\n",
       "         0.68965517, 0.68965517, 0.68965517, 0.68965517, 0.68965517,\n",
       "         0.68965517, 0.68965517, 0.68965517, 0.68965517, 0.68965517],\n",
       "        [0.72413793, 0.72413793, 0.72413793, 0.72413793, 0.72413793,\n",
       "         0.72413793, 0.72413793, 0.72413793, 0.72413793, 0.72413793,\n",
       "         0.72413793, 0.72413793, 0.72413793, 0.72413793, 0.72413793,\n",
       "         0.72413793, 0.72413793, 0.72413793, 0.72413793, 0.72413793,\n",
       "         0.72413793, 0.72413793, 0.72413793, 0.72413793, 0.72413793,\n",
       "         0.72413793, 0.72413793, 0.72413793, 0.72413793, 0.72413793],\n",
       "        [0.75862069, 0.75862069, 0.75862069, 0.75862069, 0.75862069,\n",
       "         0.75862069, 0.75862069, 0.75862069, 0.75862069, 0.75862069,\n",
       "         0.75862069, 0.75862069, 0.75862069, 0.75862069, 0.75862069,\n",
       "         0.75862069, 0.75862069, 0.75862069, 0.75862069, 0.75862069,\n",
       "         0.75862069, 0.75862069, 0.75862069, 0.75862069, 0.75862069,\n",
       "         0.75862069, 0.75862069, 0.75862069, 0.75862069, 0.75862069],\n",
       "        [0.79310345, 0.79310345, 0.79310345, 0.79310345, 0.79310345,\n",
       "         0.79310345, 0.79310345, 0.79310345, 0.79310345, 0.79310345,\n",
       "         0.79310345, 0.79310345, 0.79310345, 0.79310345, 0.79310345,\n",
       "         0.79310345, 0.79310345, 0.79310345, 0.79310345, 0.79310345,\n",
       "         0.79310345, 0.79310345, 0.79310345, 0.79310345, 0.79310345,\n",
       "         0.79310345, 0.79310345, 0.79310345, 0.79310345, 0.79310345],\n",
       "        [0.82758621, 0.82758621, 0.82758621, 0.82758621, 0.82758621,\n",
       "         0.82758621, 0.82758621, 0.82758621, 0.82758621, 0.82758621,\n",
       "         0.82758621, 0.82758621, 0.82758621, 0.82758621, 0.82758621,\n",
       "         0.82758621, 0.82758621, 0.82758621, 0.82758621, 0.82758621,\n",
       "         0.82758621, 0.82758621, 0.82758621, 0.82758621, 0.82758621,\n",
       "         0.82758621, 0.82758621, 0.82758621, 0.82758621, 0.82758621],\n",
       "        [0.86206897, 0.86206897, 0.86206897, 0.86206897, 0.86206897,\n",
       "         0.86206897, 0.86206897, 0.86206897, 0.86206897, 0.86206897,\n",
       "         0.86206897, 0.86206897, 0.86206897, 0.86206897, 0.86206897,\n",
       "         0.86206897, 0.86206897, 0.86206897, 0.86206897, 0.86206897,\n",
       "         0.86206897, 0.86206897, 0.86206897, 0.86206897, 0.86206897,\n",
       "         0.86206897, 0.86206897, 0.86206897, 0.86206897, 0.86206897],\n",
       "        [0.89655172, 0.89655172, 0.89655172, 0.89655172, 0.89655172,\n",
       "         0.89655172, 0.89655172, 0.89655172, 0.89655172, 0.89655172,\n",
       "         0.89655172, 0.89655172, 0.89655172, 0.89655172, 0.89655172,\n",
       "         0.89655172, 0.89655172, 0.89655172, 0.89655172, 0.89655172,\n",
       "         0.89655172, 0.89655172, 0.89655172, 0.89655172, 0.89655172,\n",
       "         0.89655172, 0.89655172, 0.89655172, 0.89655172, 0.89655172],\n",
       "        [0.93103448, 0.93103448, 0.93103448, 0.93103448, 0.93103448,\n",
       "         0.93103448, 0.93103448, 0.93103448, 0.93103448, 0.93103448,\n",
       "         0.93103448, 0.93103448, 0.93103448, 0.93103448, 0.93103448,\n",
       "         0.93103448, 0.93103448, 0.93103448, 0.93103448, 0.93103448,\n",
       "         0.93103448, 0.93103448, 0.93103448, 0.93103448, 0.93103448,\n",
       "         0.93103448, 0.93103448, 0.93103448, 0.93103448, 0.93103448],\n",
       "        [0.96551724, 0.96551724, 0.96551724, 0.96551724, 0.96551724,\n",
       "         0.96551724, 0.96551724, 0.96551724, 0.96551724, 0.96551724,\n",
       "         0.96551724, 0.96551724, 0.96551724, 0.96551724, 0.96551724,\n",
       "         0.96551724, 0.96551724, 0.96551724, 0.96551724, 0.96551724,\n",
       "         0.96551724, 0.96551724, 0.96551724, 0.96551724, 0.96551724,\n",
       "         0.96551724, 0.96551724, 0.96551724, 0.96551724, 0.96551724],\n",
       "        [1.        , 1.        , 1.        , 1.        , 1.        ,\n",
       "         1.        , 1.        , 1.        , 1.        , 1.        ,\n",
       "         1.        , 1.        , 1.        , 1.        , 1.        ,\n",
       "         1.        , 1.        , 1.        , 1.        , 1.        ,\n",
       "         1.        , 1.        , 1.        , 1.        , 1.        ,\n",
       "         1.        , 1.        , 1.        , 1.        , 1.        ]]))"
      ]
     },
     "execution_count": 34,
     "metadata": {},
     "output_type": "execute_result"
    }
   ],
   "source": [
    "Y, X"
   ]
  },
  {
   "cell_type": "code",
   "execution_count": 37,
   "metadata": {},
   "outputs": [
    {
     "name": "stderr",
     "output_type": "stream",
     "text": [
      "<ipython-input-37-2dd59262abb8>:1: UserWarning: No contour levels were found within the data range.\n",
      "  ax.contour(X, Y, P, colors='k',\n"
     ]
    },
    {
     "data": {
      "text/plain": [
       "<matplotlib.contour.QuadContourSet at 0x7f7d78739640>"
      ]
     },
     "execution_count": 37,
     "metadata": {},
     "output_type": "execute_result"
    }
   ],
   "source": [
    "ax.contour(X, Y, P, colors='k',\n",
    "               levels=[-1, 0, 1], alpha=0.5,\n",
    "               linestyles=['--', '-', '--'])"
   ]
  },
  {
   "cell_type": "code",
   "execution_count": 40,
   "metadata": {},
   "outputs": [
    {
     "data": {
      "text/plain": [
       "(0.0, 1.0)"
      ]
     },
     "execution_count": 40,
     "metadata": {},
     "output_type": "execute_result"
    }
   ],
   "source": [
    "ax.scatter(model.support_vectors_[:, 0],\n",
    "                   model.support_vectors_[:, 1],\n",
    "                   s=300, linewidth=1, facecolors='none');\n",
    "ax.set_xlim(xlim)\n",
    "ax.set_ylim(ylim)"
   ]
  },
  {
   "cell_type": "code",
   "execution_count": 43,
   "metadata": {},
   "outputs": [
    {
     "data": {
      "text/plain": [
       "<matplotlib.collections.PathCollection at 0x7f7d77e32460>"
      ]
     },
     "execution_count": 43,
     "metadata": {},
     "output_type": "execute_result"
    },
    {
     "data": {
      "image/png": "[encoded data removed]",
      "text/plain": [
       "<Figure size 432x288 with 1 Axes>"
      ]
     },
     "metadata": {},
     "output_type": "display_data"
    }
   ],
   "source": [
    "plt.scatter(model.support_vectors_[:, 0],\n",
    "                   model.support_vectors_[:, 1])"
   ]
  },
  {
   "cell_type": "code",
   "execution_count": 44,
   "metadata": {},
   "outputs": [
    {
     "data": {
      "text/plain": [
       "(0.0, 1.0)"
      ]
     },
     "execution_count": 44,
     "metadata": {},
     "output_type": "execute_result"
    }
   ],
   "source": [
    "xlim"
   ]
  },
  {
   "cell_type": "code",
   "execution_count": 19,
   "metadata": {},
   "outputs": [
    {
     "data": {
      "text/plain": [
       "(0.0, 1.0)"
      ]
     },
     "execution_count": 19,
     "metadata": {},
     "output_type": "execute_result"
    },
    {
     "data": {
      "image/png": "[encoded data removed]",
      "text/plain": [
       "<Figure size 432x288 with 1 Axes>"
      ]
     },
     "metadata": {},
     "output_type": "display_data"
    }
   ],
   "source": [
    "ax = plt.gca()\n",
    "\n",
    "ax.get_xlim()"
   ]
  },
  {
   "cell_type": "code",
   "execution_count": 20,
   "metadata": {},
   "outputs": [
    {
     "data": {
      "text/plain": [
       "(0.0, 1.0)"
      ]
     },
     "execution_count": 20,
     "metadata": {},
     "output_type": "execute_result"
    }
   ],
   "source": [
    "xlim = ax.get_xlim()\n",
    "ax.set_xlim(xlim)"
   ]
  },
  {
   "cell_type": "code",
   "execution_count": 21,
   "metadata": {},
   "outputs": [
    {
     "data": {
      "image/png": "[encoded data removed]",
      "text/plain": [
       "<Figure size 432x288 with 1 Axes>"
      ]
     },
     "metadata": {},
     "output_type": "display_data"
    }
   ],
   "source": [
    "\n",
    "\n",
    "import matplotlib.pyplot as plt\n",
    "import numpy as np\n",
    "x = np.linspace(-5,5,100)\n",
    "y = 2*x+1\n",
    "plt.plot(x, y, '-r', label='y=2x+1')\n",
    "plt.title('Graph of y=2x+1')\n",
    "plt.xlabel('x', color='#1C2833')\n",
    "plt.ylabel('y', color='#1C2833')\n",
    "plt.legend(loc='upper left')\n",
    "plt.grid()\n",
    "plt.show()\n",
    "\n"
   ]
  },
  {
   "cell_type": "code",
   "execution_count": 22,
   "metadata": {},
   "outputs": [
    {
     "data": {
      "image/png": "[encoded data removed]",
      "text/plain": [
       "<Figure size 432x288 with 1 Axes>"
      ]
     },
     "metadata": {},
     "output_type": "display_data"
    }
   ],
   "source": [
    "import matplotlib.pyplot as plt\n",
    "import numpy as np\n",
    "x = np.linspace(0.1,0.9,31)\n",
    "y = 2*x+1\n",
    "plt.plot(x, y, '-r', label='y=2x+1')\n",
    "plt.title('Graph of y=2x+1')\n",
    "plt.xlabel('x', color='#1C2833')\n",
    "plt.ylabel('y', color='#1C2833')\n",
    "plt.legend(loc='upper left')\n",
    "plt.grid()\n",
    "plt.show()"
   ]
  },
  {
   "cell_type": "code",
   "execution_count": 23,
   "metadata": {},
   "outputs": [
    {
     "data": {
      "image/png": "[encoded data removed]",
      "text/plain": [
       "<Figure size 432x288 with 1 Axes>"
      ]
     },
     "metadata": {},
     "output_type": "display_data"
    }
   ],
   "source": [
    "import numpy as np \n",
    "import matplotlib.pyplot as plt\n",
    "\n",
    "A1,B1 = 1.,1.\n",
    "A2,B2 = 2.,2.\n",
    "\n",
    "x = np.linspace(-100.,100.)\n",
    "\n",
    "fig,ax = plt.subplots()\n",
    "ax.plot(x,A1*x+B1)\n",
    "ax.plot(x,A2*x+B2)\n",
    "\n",
    "ax.set_xlim((-100.,100.))\n",
    "ax.set_ylim((-100.,100.))\n",
    "\n",
    "plt.show()"
   ]
  },
  {
   "cell_type": "code",
   "execution_count": 51,
   "metadata": {},
   "outputs": [
    {
     "data": {
      "text/plain": [
       "SVC(C=1000, kernel='linear')"
      ]
     },
     "execution_count": 51,
     "metadata": {},
     "output_type": "execute_result"
    }
   ],
   "source": [
    "from sklearn import svm\n",
    "clf = svm.SVC(kernel='linear', C=1000)\n",
    "clf.fit(X, y)from sklearn import svm"
   ]
  },
  {
   "cell_type": "code",
   "execution_count": 50,
   "metadata": {},
   "outputs": [],
   "source": [
    "import numpy as np\n",
    "X = np.array([[0.067, 0.21 ],\n",
    "       [0.092, 0.21 ],\n",
    "       [0.294, 0.445],\n",
    "       [0.227, 0.521],\n",
    "       [0.185, 0.597],\n",
    "       [0.185, 0.689],\n",
    "       [0.235, 0.748],\n",
    "       [0.319, 0.773],\n",
    "       [0.387, 0.739],\n",
    "       [0.437, 0.672],\n",
    "       [0.496, 0.739],\n",
    "       [0.571, 0.773],\n",
    "       [0.639, 0.765],\n",
    "       [0.765, 0.924],\n",
    "       [0.807, 0.933],\n",
    "       [0.849, 0.941],\n",
    "       [0.118, 0.143],\n",
    "       [0.118, 0.176],\n",
    "       [0.345, 0.378],\n",
    "       [0.395, 0.319],\n",
    "       [0.437, 0.261],\n",
    "       [0.496, 0.328],\n",
    "       [0.546, 0.395],\n",
    "       [0.605, 0.462],\n",
    "       [0.655, 0.529],\n",
    "       [0.697, 0.597],\n",
    "       [0.706, 0.664],\n",
    "       [0.681, 0.723],\n",
    "       [0.849, 0.798],\n",
    "       [0.857, 0.849],\n",
    "       [0.866, 0.899]])\n",
    "\n",
    "y = [1,1,1,1,1,1,1,1,1,1,1,1,1,1,1,1,-1,-1,-1,-1,-1,-1,-1,-1,-1,-1,-1,-1,-1,-1,-1]\n",
    "\n"
   ]
  },
  {
   "cell_type": "code",
   "execution_count": 53,
   "metadata": {},
   "outputs": [
    {
     "data": {
      "image/png": "[encoded data removed]",
      "text/plain": [
       "<Figure size 432x288 with 1 Axes>"
      ]
     },
     "metadata": {},
     "output_type": "display_data"
    }
   ],
   "source": [
    "plt.scatter(X[:, 0], X[:, 1], c=y, s=50, cmap='autumn')\n",
    "plot_svc_decision_function(clf);"
   ]
  },
  {
   "cell_type": "code",
   "execution_count": 55,
   "metadata": {},
   "outputs": [
    {
     "name": "stdout",
     "output_type": "stream",
     "text": [
      "w =  [[-33.06510719  34.24149334]]\n",
      "b =  [-3.14880498]\n",
      "Indices of support vectors =  [27 30  1 15]\n",
      "Support vectors =  [[0.681 0.723]\n",
      " [0.866 0.899]\n",
      " [0.092 0.21 ]\n",
      " [0.849 0.941]]\n",
      "Number of support vectors for each class =  [2 2]\n"
     ]
    },
    {
     "ename": "AttributeError",
     "evalue": "'SVC' object has no attribute 'dual_coef'",
     "output_type": "error",
     "traceback": [
      "\u001b[0;31m---------------------------------------------------------------------------\u001b[0m",
      "\u001b[0;31mAttributeError\u001b[0m                            Traceback (most recent call last)",
      "\u001b[0;32m<ipython-input-55-66f40c0e8c1e>\u001b[0m in \u001b[0;36m<module>\u001b[0;34m\u001b[0m\n\u001b[1;32m      4\u001b[0m \u001b[0mprint\u001b[0m\u001b[0;34m(\u001b[0m\u001b[0;34m'Support vectors = '\u001b[0m\u001b[0;34m,\u001b[0m \u001b[0mclf\u001b[0m\u001b[0;34m.\u001b[0m\u001b[0msupport_vectors_\u001b[0m\u001b[0;34m)\u001b[0m\u001b[0;34m\u001b[0m\u001b[0;34m\u001b[0m\u001b[0m\n\u001b[1;32m      5\u001b[0m \u001b[0mprint\u001b[0m\u001b[0;34m(\u001b[0m\u001b[0;34m'Number of support vectors for each class = '\u001b[0m\u001b[0;34m,\u001b[0m \u001b[0mclf\u001b[0m\u001b[0;34m.\u001b[0m\u001b[0mn_support_\u001b[0m\u001b[0;34m)\u001b[0m\u001b[0;34m\u001b[0m\u001b[0;34m\u001b[0m\u001b[0m\n\u001b[0;32m----> 6\u001b[0;31m \u001b[0mprint\u001b[0m\u001b[0;34m(\u001b[0m\u001b[0;34m'Coefficients of the support vector in the decision function = '\u001b[0m\u001b[0;34m,\u001b[0m \u001b[0mnp\u001b[0m\u001b[0;34m.\u001b[0m\u001b[0mabs\u001b[0m\u001b[0;34m(\u001b[0m\u001b[0mclf\u001b[0m\u001b[0;34m.\u001b[0m\u001b[0mdual_coef\u001b[0m\u001b[0;34m)\u001b[0m\u001b[0;34m)\u001b[0m\u001b[0;34m\u001b[0m\u001b[0;34m\u001b[0m\u001b[0m\n\u001b[0m",
      "\u001b[0;31mAttributeError\u001b[0m: 'SVC' object has no attribute 'dual_coef'"
     ]
    }
   ],
   "source": [
    "print('w = ',clf.coef_)\n",
    "print('b = ',clf.intercept_)\n",
    "print('Indices of support vectors = ', clf.support_)\n",
    "print('Support vectors = ', clf.support_vectors_)\n",
    "print('Number of support vectors for each class = ', clf.n_support_)\n",
    "print('Coefficients of the support vector in the decision function = ', np.abs(clf.dual_coef))"
   ]
  },
  {
   "cell_type": "code",
   "execution_count": null,
   "metadata": {},
   "outputs": [],
   "source": []
  }
 ],
 "metadata": {
  "kernelspec": {
   "display_name": "Python 3",
   "language": "python",
   "name": "python3"
  },
  "language_info": {
   "codemirror_mode": {
    "name": "ipython",
    "version": 3
   },
   "file_extension": ".py",
   "mimetype": "text/x-python",
   "name": "python",
   "nbconvert_exporter": "python",
   "pygments_lexer": "ipython3",
   "version": "3.8.5"
  }
 },
 "nbformat": 4,
 "nbformat_minor": 4
}
